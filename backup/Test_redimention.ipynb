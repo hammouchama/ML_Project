{
 "cells": [
  {
   "cell_type": "markdown",
   "metadata": {},
   "source": [
    "### Resize and fill the empty pixels with black"
   ]
  },
  {
   "cell_type": "code",
   "execution_count": 2,
   "metadata": {},
   "outputs": [
    {
     "name": "stdout",
     "output_type": "stream",
     "text": [
      "the max width is : 3264\n",
      "the max height is : 2562\n"
     ]
    },
    {
     "name": "stderr",
     "output_type": "stream",
     "text": [
      "C:\\Users\\dell\\AppData\\Local\\Temp\\ipykernel_7332\\2811317148.py:46: DeprecationWarning: ANTIALIAS is deprecated and will be removed in Pillow 10 (2023-07-01). Use Resampling.LANCZOS instead.\n",
      "  resized_img = img.resize((new_width, new_height), Image.ANTIALIAS)\n"
     ]
    },
    {
     "name": "stdout",
     "output_type": "stream",
     "text": [
      "Images resized and padded successfully!\n"
     ]
    }
   ],
   "source": [
    "from PIL import Image\n",
    "import os\n",
    "\n",
    "def resize_and_pad(image_path, output_folder, pad_value=0):\n",
    "    \"\"\"\n",
    "    Resizes an image to the maximum width or height found in the folder, maintaining aspect ratio, and fills empty spaces with pad_value.\n",
    "\n",
    "    Args:\n",
    "        image_path: Path to the image file.\n",
    "        output_folder: Path to the output folder.\n",
    "        pad_value: Integer representing the value to fill empty spaces with (default: 0).\n",
    "\n",
    "    Returns:\n",
    "        None\n",
    "    \"\"\"\n",
    "    # Find the maximum width and height in the folder\n",
    "    max_width = 0\n",
    "    max_height = 0\n",
    "    for file in os.listdir(image_path):\n",
    "        filepath = os.path.join(image_path, file)\n",
    "        if os.path.isfile(filepath):\n",
    "            img = Image.open(filepath)\n",
    "            width, height = img.size\n",
    "            max_width = max(max_width, width)\n",
    "            max_height = max(max_height, height)\n",
    "\n",
    "    print(\"the max width is :\", max_width)\n",
    "    print(\"the max height is :\", max_height)\n",
    "    # Open the image to resize\n",
    "\n",
    "    for file in os.listdir(image_path):\n",
    "        filepath = os.path.join(image_path, file)\n",
    "\n",
    "        img = Image.open(filepath)\n",
    "        width, height = img.size\n",
    "\n",
    "        # Calculate new dimensions based on aspect ratio\n",
    "        if width > height:\n",
    "            new_width = max_width\n",
    "            new_height = int(height * max_width / width)\n",
    "        else:\n",
    "            new_width = int(width * max_height / height)\n",
    "            new_height = max_height\n",
    "\n",
    "        # Resize the image with padding\n",
    "        resized_img = img.resize((new_width, new_height), Image.ANTIALIAS)\n",
    "        padding_img = Image.new(\"RGB\", (max_width, max_height), pad_value)\n",
    "        padding_img.paste(resized_img, ((max_width - resized_img.width) // 2, (max_height - resized_img.height) // 2))\n",
    "\n",
    "        # Save the resized image\n",
    "        filename, extension = os.path.splitext(file)\n",
    "        output_path = os.path.join(output_folder, filename + extension)\n",
    "        padding_img.save(output_path)\n",
    "\n",
    "# Change these variables to your specific file paths\n",
    "image_path_folder = \"./data/train/\"\n",
    "output_folder = \"./newData\"\n",
    "\n",
    "# Loop through all image files in the folder\n",
    "resize_and_pad(image_path_folder, output_folder)\n",
    "\n",
    "print(\"Images resized and padded successfully!\")\n"
   ]
  },
  {
   "cell_type": "code",
   "execution_count": null,
   "metadata": {},
   "outputs": [],
   "source": []
  }
 ],
 "metadata": {
  "kernelspec": {
   "display_name": "Python 3",
   "language": "python",
   "name": "python3"
  },
  "language_info": {
   "codemirror_mode": {
    "name": "ipython",
    "version": 3
   },
   "file_extension": ".py",
   "mimetype": "text/x-python",
   "name": "python",
   "nbconvert_exporter": "python",
   "pygments_lexer": "ipython3",
   "version": "3.11.0"
  }
 },
 "nbformat": 4,
 "nbformat_minor": 2
}
